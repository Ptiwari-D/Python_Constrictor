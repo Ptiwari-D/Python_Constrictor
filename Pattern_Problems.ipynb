{
 "cells": [
  {
   "cell_type": "markdown",
   "id": "18e60985-0953-4234-972d-355b1edc5e4f",
   "metadata": {},
   "source": [
    "### <span style = \"color:violet\">***Pattern Algorithm***</span>"
   ]
  },
  {
   "cell_type": "code",
   "execution_count": 1,
   "id": "36195ff3-87ec-45f3-870a-f4f83d48d095",
   "metadata": {},
   "outputs": [
    {
     "name": "stdin",
     "output_type": "stream",
     "text": [
      " 5\n"
     ]
    },
    {
     "name": "stdout",
     "output_type": "stream",
     "text": [
      "1 \n",
      "\n",
      "2 2 \n",
      "\n",
      "3 3 3 \n",
      "\n",
      "4 4 4 4 \n",
      "\n",
      "5 5 5 5 5 \n",
      "\n"
     ]
    }
   ],
   "source": [
    "##### 1\n",
    "# 2 2\n",
    "# 3 3 3 \n",
    "# 4 4 4 4\n",
    "# 5 5 5 5 5\n",
    "row = int(input())\n",
    "# outer loop for rows\n",
    "for i in range(1,row+1):\n",
    "    # inner loop for the column\n",
    "    for j in range(i):\n",
    "        print(i,end = ' ')\n",
    "    print('\\n')"
   ]
  },
  {
   "cell_type": "code",
   "execution_count": 29,
   "id": "d90d73bd-24ad-45db-9f32-be5e9f1825ce",
   "metadata": {},
   "outputs": [
    {
     "name": "stdin",
     "output_type": "stream",
     "text": [
      " 5\n"
     ]
    },
    {
     "name": "stdout",
     "output_type": "stream",
     "text": [
      "1 \n",
      "\n",
      "1 2 \n",
      "\n",
      "1 2 3 \n",
      "\n",
      "1 2 3 4 \n",
      "\n",
      "1 2 3 4 5 \n",
      "\n"
     ]
    }
   ],
   "source": [
    "# 1 \n",
    "# 1 2 \n",
    "# 1 2 3 \n",
    "# 1 2 3 4 \n",
    "# 1 2 3 4 5\n",
    "row = int(input())\n",
    "# outer loop for rows\n",
    "for i in range(1,row+1):\n",
    "    # inner loop for columns\n",
    "    for j in range(1,i+1):\n",
    "        print(j,end = ' ')\n",
    "    print(\"\\n\")"
   ]
  },
  {
   "cell_type": "code",
   "execution_count": 42,
   "id": "147e1ad6-41c2-434a-bc23-aa50de13814e",
   "metadata": {},
   "outputs": [
    {
     "name": "stdin",
     "output_type": "stream",
     "text": [
      " 5\n"
     ]
    },
    {
     "name": "stdout",
     "output_type": "stream",
     "text": [
      "1 1 1 1 1 \n",
      "2 2 2 2 \n",
      "3 3 3 \n",
      "4 4 \n",
      "5 \n"
     ]
    }
   ],
   "source": [
    "# 1 1 1 1 1 \n",
    "# 2 2 2 2 \n",
    "# 3 3 3 \n",
    "# 4 4 \n",
    "# 5\n",
    "row = int(input())\n",
    "#outer loop\n",
    "for i in range(1,row+1):\n",
    "    #inner loop\n",
    "    for j in range(row+1,i,-1):\n",
    "        print(i,end = ' ')\n",
    "    print('')"
   ]
  },
  {
   "cell_type": "code",
   "execution_count": 40,
   "id": "6943d268-77bd-4caa-9e44-53a80d965793",
   "metadata": {},
   "outputs": [
    {
     "name": "stdin",
     "output_type": "stream",
     "text": [
      " 5\n"
     ]
    },
    {
     "name": "stdout",
     "output_type": "stream",
     "text": [
      "1 1 1 1 1 \n",
      "2 2 2 2 \n",
      "3 3 3 \n",
      "4 4 \n",
      "5 \n"
     ]
    }
   ],
   "source": [
    "# alternate approach\n",
    "row = int(input())\n",
    "b = 0\n",
    "for i in range(row,0,-1):\n",
    "    b += 1\n",
    "    for j in range(1, i+1):\n",
    "        print(b,end=' ')\n",
    "    print('')"
   ]
  },
  {
   "cell_type": "code",
   "execution_count": 44,
   "id": "168fcb87-ee22-4e23-9df2-cdb6e0331b08",
   "metadata": {},
   "outputs": [
    {
     "name": "stdin",
     "output_type": "stream",
     "text": [
      " 5\n"
     ]
    },
    {
     "name": "stdout",
     "output_type": "stream",
     "text": [
      "5 5 5 5 5 \n",
      "5 5 5 5 \n",
      "5 5 5 \n",
      "5 5 \n",
      "5 \n"
     ]
    }
   ],
   "source": [
    "# 5 5 5 5 5 \n",
    "# 5 5 5 5 \n",
    "# 5 5 5 \n",
    "# 5 5 \n",
    "# 5\n",
    "row = int(input())\n",
    "for i in range(row,0,-1):\n",
    "    for j in range(1,i+1):\n",
    "        print(row,end=' ')\n",
    "    print('')"
   ]
  },
  {
   "cell_type": "code",
   "execution_count": 56,
   "id": "c3b9192a-c766-4814-b47f-76821e96fe10",
   "metadata": {},
   "outputs": [
    {
     "name": "stdin",
     "output_type": "stream",
     "text": [
      " 5\n"
     ]
    },
    {
     "name": "stdout",
     "output_type": "stream",
     "text": [
      "0 1 2 3 4 5 \n",
      "0 1 2 3 4 \n",
      "0 1 2 3 \n",
      "0 1 2 \n",
      "0 1 \n"
     ]
    }
   ],
   "source": [
    "# 0 1 2 3 4 5 \n",
    "# 0 1 2 3 4 \n",
    "# 0 1 2 3 \n",
    "# 0 1 2 \n",
    "# 0 1\n",
    "row = int(input())\n",
    "for i in range(row+1,1,-1):\n",
    "    a = 0\n",
    "    for j in range(1,i+1):\n",
    "        print(a,end = ' ')\n",
    "        a += 1\n",
    "    print('')"
   ]
  },
  {
   "cell_type": "code",
   "execution_count": 58,
   "id": "7c95ccc8-d7ad-410b-b078-235f4d9df915",
   "metadata": {},
   "outputs": [
    {
     "name": "stdin",
     "output_type": "stream",
     "text": [
      " 5\n"
     ]
    },
    {
     "name": "stdout",
     "output_type": "stream",
     "text": [
      "1 \n",
      "3 3 \n",
      "5 5 5 \n",
      "7 7 7 7 \n",
      "9 9 9 9 9 \n"
     ]
    }
   ],
   "source": [
    "# 1 \n",
    "# 3 3 \n",
    "# 5 5 5 \n",
    "# 7 7 7 7 \n",
    "# 9 9 9 9 9\n",
    "row = int(input())\n",
    "for i in range(1,row+1):\n",
    "    for j in range(i):\n",
    "        print(i*2-1,end = ' ')\n",
    "    print('')"
   ]
  },
  {
   "cell_type": "code",
   "execution_count": 60,
   "id": "894d6147-6346-49cf-ab4e-e00a58d0513f",
   "metadata": {},
   "outputs": [
    {
     "name": "stdin",
     "output_type": "stream",
     "text": [
      " 5\n"
     ]
    },
    {
     "name": "stdout",
     "output_type": "stream",
     "text": [
      "5 5 5 5 5 \n",
      "4 4 4 4 \n",
      "3 3 3 \n",
      "2 2 \n",
      "1 \n"
     ]
    }
   ],
   "source": [
    "# 5 5 5 5 5 \n",
    "# 4 4 4 4 \n",
    "# 3 3 3 \n",
    "# 2 2 \n",
    "# 1\n",
    "row = int(input())\n",
    "a = row\n",
    "for i in range(row,0,-1):\n",
    "    for j in range(1,i+1):\n",
    "        print(a,end = ' ')\n",
    "    a -= 1\n",
    "    print('')"
   ]
  },
  {
   "cell_type": "code",
   "execution_count": 68,
   "id": "9b322a0d-970b-416a-bf77-de59121009bc",
   "metadata": {},
   "outputs": [
    {
     "name": "stdin",
     "output_type": "stream",
     "text": [
      " 5\n"
     ]
    },
    {
     "name": "stdout",
     "output_type": "stream",
     "text": [
      "1 \n",
      "2 1 \n",
      "3 2 1 \n",
      "4 3 2 1 \n",
      "5 4 3 2 1 \n"
     ]
    }
   ],
   "source": [
    "# 1 \n",
    "# 2 1 \n",
    "# 3 2 1 \n",
    "# 4 3 2 1 \n",
    "# 5 4 3 2 1\n",
    "row = int(input())\n",
    "for i in range(1,row+1):\n",
    "    for j in range(i):\n",
    "        print(i-j,end = ' ')\n",
    "    print('')"
   ]
  },
  {
   "cell_type": "code",
   "execution_count": 66,
   "id": "d79151c6-3fcb-404f-869c-9594e0a29424",
   "metadata": {},
   "outputs": [
    {
     "name": "stdin",
     "output_type": "stream",
     "text": [
      "Enter the number of rows:  5\n"
     ]
    },
    {
     "name": "stdout",
     "output_type": "stream",
     "text": [
      "1\n",
      "2 1\n",
      "3 2 1\n",
      "4 3 2 1\n",
      "5 4 3 2 1\n"
     ]
    }
   ],
   "source": [
    "row = int(input(\"Enter the number of rows: \"))\n",
    "for i in range(1, row + 1):\n",
    "    print(' '.join(str(i - j) for j in range(i)))\n"
   ]
  },
  {
   "cell_type": "code",
   "execution_count": 76,
   "id": "d1b4cd9c-973b-4edb-acb6-51014933f388",
   "metadata": {},
   "outputs": [
    {
     "name": "stdin",
     "output_type": "stream",
     "text": [
      " 5\n"
     ]
    },
    {
     "name": "stdout",
     "output_type": "stream",
     "text": [
      "5 4 3 2 1 \n",
      "4 3 2 1 \n",
      "3 2 1 \n",
      "2 1 \n",
      "1 \n"
     ]
    }
   ],
   "source": [
    "# 5 4 3 2 1 \n",
    "# 4 3 2 1 \n",
    "# 3 2 1 \n",
    "# 2 1 \n",
    "# 1\n",
    "row = int(input())\n",
    "for i in range(1,row+1):\n",
    "    for j in range(row+1,i,-1):\n",
    "        print(j-i, end = ' ')\n",
    "    print('')"
   ]
  },
  {
   "cell_type": "code",
   "execution_count": 84,
   "id": "1c44baf2-5904-453a-ae86-48af4bccf5f9",
   "metadata": {},
   "outputs": [
    {
     "name": "stdin",
     "output_type": "stream",
     "text": [
      " 5\n"
     ]
    },
    {
     "name": "stdout",
     "output_type": "stream",
     "text": [
      "5 4 3 2 1\n",
      "4 3 2 1\n",
      "3 2 1\n",
      "2 1\n",
      "1\n"
     ]
    }
   ],
   "source": [
    "row = int(input())\n",
    "for i in range(1,row+1):\n",
    "    print(' '.join(str(j-i) for j in range(row+1,i,-1)))"
   ]
  },
  {
   "cell_type": "code",
   "execution_count": 112,
   "id": "913a4892-9b70-4a06-a88e-a5e9c3f7f222",
   "metadata": {},
   "outputs": [
    {
     "name": "stdin",
     "output_type": "stream",
     "text": [
      " 5\n"
     ]
    },
    {
     "name": "stdout",
     "output_type": "stream",
     "text": [
      "1 \n",
      "3 2 \n",
      "6 5 4 \n",
      "10 9 8 7 \n",
      "15 14 13 12 11 \n"
     ]
    }
   ],
   "source": [
    "# 1\n",
    "# 3 2\n",
    "# 6 5 4\n",
    "# 10 9 8 7\n",
    "row = int(input())\n",
    "b = 1\n",
    "for i in range(1,row+1):\n",
    "    row_number = []\n",
    "    for j in range(i):\n",
    "        row_number.append(str(b))\n",
    "        b += 1\n",
    "    print(' '.join(row_number[::-1]), end= ' ')\n",
    "    print('')\n",
    "    \n"
   ]
  },
  {
   "cell_type": "code",
   "execution_count": 166,
   "id": "0d3143d9-c822-4f28-b019-dd59b833b695",
   "metadata": {},
   "outputs": [
    {
     "name": "stdin",
     "output_type": "stream",
     "text": [
      " 5\n"
     ]
    },
    {
     "name": "stdout",
     "output_type": "stream",
     "text": [
      "        1 \n",
      "      1 2 \n",
      "    1 2 3 \n",
      "  1 2 3 4 \n",
      "1 2 3 4 5 \n"
     ]
    }
   ],
   "source": [
    "  #         1 \n",
    "  #       1 2 \n",
    "  #     1 2 3 \n",
    "  #   1 2 3 4 \n",
    "  # 1 2 3 4 5 \n",
    "row = int(input())\n",
    "for i in range(1,row+1):\n",
    "    a = 1\n",
    "    # for printing spaces\n",
    "    for j in range(row - i):\n",
    "        print(' ', end = ' ')\n",
    "\n",
    "    # for printing numbers\n",
    "    for j in range(1,i+1):\n",
    "        print(a, end=' ')\n",
    "        a += 1\n",
    "    print('')"
   ]
  },
  {
   "cell_type": "code",
   "execution_count": 168,
   "id": "d7a1cf10-ba77-4dba-a8be-4ffaa7764df1",
   "metadata": {},
   "outputs": [
    {
     "name": "stdin",
     "output_type": "stream",
     "text": [
      " 5\n"
     ]
    },
    {
     "name": "stdout",
     "output_type": "stream",
     "text": [
      "        1 \n",
      "      1 2 \n",
      "    1 2 3 \n",
      "  1 2 3 4 \n",
      "1 2 3 4 5 \n"
     ]
    }
   ],
   "source": [
    "# alternate approach\n",
    "row = int(input())\n",
    "for i in range(1,row+1):\n",
    "    a = 1\n",
    "    for j in range(row,0,-1):\n",
    "        if j > i:\n",
    "            print(' ', end = ' ')\n",
    "        else:\n",
    "            print(a, end = ' ')\n",
    "            a += 1\n",
    "    print('')"
   ]
  },
  {
   "cell_type": "code",
   "execution_count": 5,
   "id": "8916d3d9-0799-418a-94a8-4dae2d86526d",
   "metadata": {},
   "outputs": [
    {
     "name": "stdin",
     "output_type": "stream",
     "text": [
      " 5\n"
     ]
    },
    {
     "name": "stdout",
     "output_type": "stream",
     "text": [
      "1 \n",
      "121 \n",
      "1331 \n",
      "14641 \n",
      "161051 \n"
     ]
    }
   ],
   "source": [
    "# 1 \n",
    "# 1 1 \n",
    "# 1 2 1 \n",
    "# 1 3 3 1 \n",
    "# 1 4 6 4 1 \n",
    "# 1 5 10 10 5 1 \n",
    "# 1 6 15 20 15 6 1\n",
    "row = int(input())\n",
    "a = 1\n",
    "for i in range(1,row+1):\n",
    "    print(a**i, end= ' ')\n",
    "    a = 11\n",
    "    print()\n",
    "    \n",
    "        "
   ]
  },
  {
   "cell_type": "code",
   "execution_count": null,
   "id": "508f19f4-2b52-4267-8b82-261dcb620e19",
   "metadata": {},
   "outputs": [],
   "source": []
  }
 ],
 "metadata": {
  "kernelspec": {
   "display_name": "Python 3 (ipykernel)",
   "language": "python",
   "name": "python3"
  },
  "language_info": {
   "codemirror_mode": {
    "name": "ipython",
    "version": 3
   },
   "file_extension": ".py",
   "mimetype": "text/x-python",
   "name": "python",
   "nbconvert_exporter": "python",
   "pygments_lexer": "ipython3",
   "version": "3.12.4"
  }
 },
 "nbformat": 4,
 "nbformat_minor": 5
}
